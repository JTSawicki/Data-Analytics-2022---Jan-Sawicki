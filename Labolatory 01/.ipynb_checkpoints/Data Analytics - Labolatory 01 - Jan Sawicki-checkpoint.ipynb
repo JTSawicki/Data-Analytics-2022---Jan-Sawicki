{
 "cells": [
  {
   "cell_type": "code",
   "execution_count": null,
   "id": "19168963",
   "metadata": {},
   "outputs": [],
   "source": [
    "import pandas as pd\n",
    "import matplotlib.pyplot as plt\n",
    "from cmdstanpy import CmdStanModel"
   ]
  },
  {
   "cell_type": "code",
   "execution_count": null,
   "id": "dff6267c",
   "metadata": {},
   "outputs": [],
   "source": [
    "# Funkcja do plotowania pandas.DataFrame\n",
    "def PlotPandasDataFrameCols(df, rows=-1, cols=-1, figsize=(10,10),\n",
    "                            masterName = 'Plot '):\n",
    "    # Wybieranie wymiarów\n",
    "    if rows == -1 or cols == -1:\n",
    "        cols = 2\n",
    "        rows = int(df.shape[1]/2)\n",
    "    \n",
    "    #Plotowanie\n",
    "    fig, axes = plt.subplots(rows, cols, dpi=150, figsize=figsize)\n",
    "    for index, series in enumerate(df):\n",
    "        row = int(index / cols)\n",
    "        col = index % cols\n",
    "        axes[row, col].plot(df[series])\n",
    "        axes[row, col].set_title(masterName + str(index + 1))\n",
    "    plt.show()\n",
    "\n",
    "# Zadanie 1\n",
    "print('----------------------------------------------------------------------')\n",
    "# Wczytywanie danych\n",
    "dp = pd.read_csv('Data1.csv', index_col=0, header=0, parse_dates=True)\n",
    "print(dp.info)\n",
    "\n",
    "# Pierwszy wykres\n",
    "PlotPandasDataFrameCols(dp, figsize=(20,10), masterName='Theta')\n",
    "\n",
    "# Drugi wykres i filtrowanie danych\n",
    "tmpDp = dp\n",
    "tmpDp = tmpDp.filter(like='2018', axis=0)\n",
    "tmpDp = tmpDp[['theta_1', 'theta_2', 'theta_3', 'theta_4']]\n",
    "PlotPandasDataFrameCols(tmpDp, figsize=(15,10), masterName='Theta')"
   ]
  },
  {
   "cell_type": "code",
   "execution_count": null,
   "id": "16a0663a",
   "metadata": {},
   "outputs": [],
   "source": [
    "# Zadanie 2\n",
    "print('----------------------------------------------------------------------')\n",
    "\n",
    "# Generowanie listy inicjalizacyjnej\n",
    "F = 3\n",
    "L = 7\n",
    "stanDataset = {'N': F + L, 'y': [0]*F + [1]*L}\n",
    "# Ładowanie modelu stan\n",
    "model = CmdStanModel(stan_file='bern_1.stan')\n",
    "sample = model.sample(stanDataset)\n",
    "theta = sample.stan_variable('theta')\n",
    "\n",
    "# Wywietlanie informacji o modelu\n",
    "summary = sample.summary()\n",
    "print(summary)\n",
    "\n",
    "# Tworzenie histogramu\n",
    "plt.hist(theta, bins=15)\n",
    "# Znajdywanie lini do zaznaczenia\n",
    "plt.axvline(theta.mean(), color='r')\n",
    "plt.axvline(summary['5%']['theta'], color='b')\n",
    "plt.axvline(summary['50%']['theta'], color='b')\n",
    "plt.axvline(summary['95%']['theta'], color='b')\n",
    "plt.show()"
   ]
  }
 ],
 "metadata": {
  "kernelspec": {
   "display_name": "Python 3 (ipykernel)",
   "language": "python",
   "name": "python3"
  },
  "language_info": {
   "codemirror_mode": {
    "name": "ipython",
    "version": 3
   },
   "file_extension": ".py",
   "mimetype": "text/x-python",
   "name": "python",
   "nbconvert_exporter": "python",
   "pygments_lexer": "ipython3",
   "version": "3.9.7"
  }
 },
 "nbformat": 4,
 "nbformat_minor": 5
}
